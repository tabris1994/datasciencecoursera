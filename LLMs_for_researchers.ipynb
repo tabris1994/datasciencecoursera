{
  "nbformat": 4,
  "nbformat_minor": 0,
  "metadata": {
    "colab": {
      "provenance": [],
      "include_colab_link": true
    },
    "kernelspec": {
      "name": "python3",
      "display_name": "Python 3"
    },
    "language_info": {
      "name": "python"
    }
  },
  "cells": [
    {
      "cell_type": "markdown",
      "metadata": {
        "id": "view-in-github",
        "colab_type": "text"
      },
      "source": [
        "<a href=\"https://colab.research.google.com/github/tabris1994/datasciencecoursera/blob/main/LLMs_for_researchers.ipynb\" target=\"_parent\"><img src=\"https://colab.research.google.com/assets/colab-badge.svg\" alt=\"Open In Colab\"/></a>"
      ]
    },
    {
      "cell_type": "markdown",
      "source": [
        "*This is a notebook that combines text and code, used for illustrative purposes.*\n",
        "\n",
        "*To use it with the OpenAI API, you need to create your API key and set it in the \"Secrets\" menu on the left (the one with the key icon)*"
      ],
      "metadata": {
        "id": "6vrIor4CKPkb"
      }
    },
    {
      "cell_type": "markdown",
      "source": [
        "# Install dependencies"
      ],
      "metadata": {
        "id": "7vpqzw-U_MJn"
      }
    },
    {
      "cell_type": "code",
      "source": [
        "!python --version"
      ],
      "metadata": {
        "colab": {
          "base_uri": "https://localhost:8080/"
        },
        "id": "rM-Qijpl88Aa",
        "outputId": "40833ca7-fd91-4c6c-a634-53e761fc42bb"
      },
      "execution_count": null,
      "outputs": [
        {
          "output_type": "stream",
          "name": "stdout",
          "text": [
            "Python 3.10.12\n"
          ]
        }
      ]
    },
    {
      "cell_type": "code",
      "source": [
        "!pip install numpy pandas openai tiktoken py_markdown_table --quiet # cohere"
      ],
      "metadata": {
        "id": "x9j1NguR8ciw",
        "outputId": "21203074-b6b2-4c5f-d842-fac6e5212976",
        "colab": {
          "base_uri": "https://localhost:8080/"
        }
      },
      "execution_count": null,
      "outputs": [
        {
          "output_type": "stream",
          "name": "stdout",
          "text": [
            "\u001b[2K     \u001b[90m━━━━━━━━━━━━━━━━━━━━━━━━━━━━━━━━━━━━━━━━\u001b[0m \u001b[32m257.5/257.5 kB\u001b[0m \u001b[31m3.9 MB/s\u001b[0m eta \u001b[36m0:00:00\u001b[0m\n",
            "\u001b[2K     \u001b[90m━━━━━━━━━━━━━━━━━━━━━━━━━━━━━━━━━━━━━━━━\u001b[0m \u001b[32m1.8/1.8 MB\u001b[0m \u001b[31m13.3 MB/s\u001b[0m eta \u001b[36m0:00:00\u001b[0m\n",
            "\u001b[2K     \u001b[90m━━━━━━━━━━━━━━━━━━━━━━━━━━━━━━━━━━━━━━━━\u001b[0m \u001b[32m75.6/75.6 kB\u001b[0m \u001b[31m9.0 MB/s\u001b[0m eta \u001b[36m0:00:00\u001b[0m\n",
            "\u001b[2K     \u001b[90m━━━━━━━━━━━━━━━━━━━━━━━━━━━━━━━━━━━━━━━━\u001b[0m \u001b[32m77.8/77.8 kB\u001b[0m \u001b[31m8.1 MB/s\u001b[0m eta \u001b[36m0:00:00\u001b[0m\n",
            "\u001b[2K     \u001b[90m━━━━━━━━━━━━━━━━━━━━━━━━━━━━━━━━━━━━━━━━\u001b[0m \u001b[32m58.3/58.3 kB\u001b[0m \u001b[31m5.6 MB/s\u001b[0m eta \u001b[36m0:00:00\u001b[0m\n",
            "\u001b[?25h"
          ]
        }
      ]
    },
    {
      "cell_type": "code",
      "execution_count": null,
      "metadata": {
        "id": "SbYqAKlx7BCi"
      },
      "outputs": [],
      "source": [
        "from google.colab import userdata\n",
        "import os\n",
        "os.environ[\"OPENAI_API_KEY\"] = userdata.get('API_KEY')"
      ]
    },
    {
      "cell_type": "code",
      "source": [],
      "metadata": {
        "id": "k-KdjVgu7OBV"
      },
      "execution_count": null,
      "outputs": []
    },
    {
      "cell_type": "markdown",
      "source": [
        "# Imports"
      ],
      "metadata": {
        "id": "G_C66Spg-KBr"
      }
    },
    {
      "cell_type": "code",
      "source": [
        "from openai import OpenAI\n",
        "import numpy as np\n",
        "import pandas as pd\n",
        "from py_markdown_table.markdown_table import markdown_table"
      ],
      "metadata": {
        "id": "lMOG5VMv-h53"
      },
      "execution_count": null,
      "outputs": []
    },
    {
      "cell_type": "markdown",
      "source": [
        "# 1. Embeddings Demo\n",
        "\n",
        "OpenAI's latest embedder (\"text-embedding-3-large\") creates ~3k-dimensional vectors."
      ],
      "metadata": {
        "id": "hT_Eexps-n88"
      }
    },
    {
      "cell_type": "code",
      "source": [
        "def get_embeddings(chunks):\n",
        "    response = OpenAI().embeddings.create(input=chunks, model=\"text-embedding-3-large\")\n",
        "    return [np.array(record.embedding) for record in response.data]"
      ],
      "metadata": {
        "id": "NB0wKdex-ply"
      },
      "execution_count": null,
      "outputs": []
    },
    {
      "cell_type": "code",
      "source": [
        "def cosine_similarity(a, b):\n",
        "    return np.dot(a, b) / (np.linalg.norm(a) * np.linalg.norm(b))"
      ],
      "metadata": {
        "id": "uz95MPg4-2qP"
      },
      "execution_count": null,
      "outputs": []
    },
    {
      "cell_type": "code",
      "source": [
        "def distance(a, b):\n",
        "\treturn 1 - cosine_similarity(a, b)"
      ],
      "metadata": {
        "id": "UyCfhkA_fjRi"
      },
      "execution_count": null,
      "outputs": []
    },
    {
      "cell_type": "markdown",
      "source": [
        "Let's create some embeddings..."
      ],
      "metadata": {
        "id": "V7Gm7HZVZwxo"
      }
    },
    {
      "cell_type": "code",
      "source": [
        "texts = ['Markup', 'Unemployment']\n",
        "e0, e1, get_embeddings(texts)\n",
        "print(e0)\n",
        "print(len(e0))"
      ],
      "metadata": {
        "colab": {
          "base_uri": "https://localhost:8080/"
        },
        "id": "Z-ndQSpdX4j3",
        "outputId": "30252bb0-5af5-4834-9ca8-5dca17d61d00"
      },
      "execution_count": null,
      "outputs": [
        {
          "output_type": "stream",
          "name": "stdout",
          "text": [
            "[-0.02849332  0.00799687 -0.02566623 ...  0.00017049  0.00256702\n",
            "  0.0213144 ]\n",
            "3072\n"
          ]
        }
      ]
    },
    {
      "cell_type": "markdown",
      "source": [
        "Let's compute some distances..."
      ],
      "metadata": {
        "id": "w04dZGWnZ02n"
      }
    },
    {
      "cell_type": "code",
      "source": [
        "e2 = get_embeddings(['Price'])[0]\n",
        "print(distance(e2, e0))\n",
        "print(distance(e2, e1))"
      ],
      "metadata": {
        "colab": {
          "base_uri": "https://localhost:8080/"
        },
        "id": "Q4so1TxKaE8Z",
        "outputId": "7e117b36-4144-48b6-f5de-179a13191603"
      },
      "execution_count": null,
      "outputs": [
        {
          "output_type": "stream",
          "name": "stdout",
          "text": [
            "0.6442938936573992\n",
            "0.7454496533084105\n",
            "0.24841288290932673\n"
          ]
        }
      ]
    },
    {
      "cell_type": "markdown",
      "source": [
        "But of course, how do we weight the different dimensions"
      ],
      "metadata": {
        "id": "tmH2W0MvalS3"
      }
    },
    {
      "cell_type": "code",
      "source": [
        "distance(*get_embeddings(['Price', 'Precio']))"
      ],
      "metadata": {
        "colab": {
          "base_uri": "https://localhost:8080/"
        },
        "id": "uy0GvNVbayUQ",
        "outputId": "5c228f94-eb83-4418-e3da-41fd0d023ed1"
      },
      "execution_count": null,
      "outputs": [
        {
          "output_type": "execute_result",
          "data": {
            "text/plain": [
              "0.24836780863926555"
            ]
          },
          "metadata": {},
          "execution_count": 30
        }
      ]
    },
    {
      "cell_type": "markdown",
      "source": [
        "## Going further...\n",
        "\n",
        "This list lists different inflation statements; all merely illustrative. Which statements are more related to each other?\n"
      ],
      "metadata": {
        "id": "cJuYdeEN-rp0"
      }
    },
    {
      "cell_type": "code",
      "source": [
        "texts = [\"Deflationary trends are setting in\",\n",
        "         \"Inflation rates are moderating\",\n",
        "         \"Unexpected inflation is an ongoing concern\",\n",
        "         \"Price stability is uncertain\",\n",
        "         \"Inflationary pressures are easing\",\n",
        "         \"Price levels surged unexpectedly\"]"
      ],
      "metadata": {
        "id": "4BKXgJ9N-uh5"
      },
      "execution_count": null,
      "outputs": []
    },
    {
      "cell_type": "code",
      "source": [
        "vectors = get_embeddings(texts)"
      ],
      "metadata": {
        "id": "PSgLmM73-xcm"
      },
      "execution_count": null,
      "outputs": []
    },
    {
      "cell_type": "code",
      "source": [
        "def view_correlations(table, texts):\n",
        "    df = pd.DataFrame(table)\n",
        "    index = {i: name for i,name in enumerate(texts)}\n",
        "    df.rename(columns=index, inplace = True)\n",
        "    data = df.to_dict(orient='records')\n",
        "    markdown = markdown_table(data).get_markdown()\n",
        "    print(markdown)"
      ],
      "metadata": {
        "id": "o1jSc8lP-30M"
      },
      "execution_count": null,
      "outputs": []
    },
    {
      "cell_type": "code",
      "source": [
        "table = []\n",
        "for x in vectors:\n",
        "    table.append([])\n",
        "    for y in vectors:\n",
        "        table[-1].append(f'{cosine_similarity(x,y):.02f}')"
      ],
      "metadata": {
        "id": "h2rqnQEz-ynO"
      },
      "execution_count": null,
      "outputs": []
    },
    {
      "cell_type": "code",
      "source": [
        "view_correlations(table, texts)\n",
        "# https://stackoverflow.com/questions/40887753/display-matrix-values-and-colormap"
      ],
      "metadata": {
        "colab": {
          "base_uri": "https://localhost:8080/"
        },
        "id": "Cv75AJG0-0At",
        "outputId": "203ceabb-687c-4758-ae2f-2728984fc963"
      },
      "execution_count": null,
      "outputs": [
        {
          "output_type": "stream",
          "name": "stdout",
          "text": [
            "```\n",
            "+------------------------------------------------------------------------------------------------------------------------------------------------------------------------------------------------------------+\n",
            "|Deflationary trends are setting in|Inflation rates are moderating|Unexpected inflation is an ongoing concern|Price stability is uncertain|Inflationary pressures are easing|Price levels surged unexpectedly|\n",
            "+----------------------------------+------------------------------+------------------------------------------+----------------------------+---------------------------------+--------------------------------+\n",
            "|               1.00               |             0.64             |                   0.54                   |            0.43            |               0.66              |              0.40              |\n",
            "+----------------------------------+------------------------------+------------------------------------------+----------------------------+---------------------------------+--------------------------------+\n",
            "|               0.64               |             1.00             |                   0.59                   |            0.45            |               0.77              |              0.41              |\n",
            "+----------------------------------+------------------------------+------------------------------------------+----------------------------+---------------------------------+--------------------------------+\n",
            "|               0.54               |             0.59             |                   1.00                   |            0.57            |               0.56              |              0.45              |\n",
            "+----------------------------------+------------------------------+------------------------------------------+----------------------------+---------------------------------+--------------------------------+\n",
            "|               0.43               |             0.45             |                   0.57                   |            1.00            |               0.43              |              0.48              |\n",
            "+----------------------------------+------------------------------+------------------------------------------+----------------------------+---------------------------------+--------------------------------+\n",
            "|               0.66               |             0.77             |                   0.56                   |            0.43            |               1.00              |              0.38              |\n",
            "+----------------------------------+------------------------------+------------------------------------------+----------------------------+---------------------------------+--------------------------------+\n",
            "|               0.40               |             0.41             |                   0.45                   |            0.48            |               0.38              |              1.00              |\n",
            "+------------------------------------------------------------------------------------------------------------------------------------------------------------------------------------------------------------+```\n"
          ]
        }
      ]
    },
    {
      "cell_type": "markdown",
      "source": [
        "# 2. RAG Demo"
      ],
      "metadata": {
        "id": "J6zRR0CrJPQb"
      }
    },
    {
      "cell_type": "code",
      "source": [
        "text = '''\n",
        "A summary of the developments in the four broad categories of vulnerabilities since the last report is as follows:\n",
        "\n",
        "1. Asset valuations. Equity prices grew faster than expected earnings, pushing the forward price-to-earnings ratio into the upper ranges of its historical distribution. Risk premiums in corporate bond markets narrowed somewhat and remained near the middle of their historical distributions. Prices of residential and commercial properties remained high relative to fundamentals (see Section 1, Asset Valuations).\n",
        "\n",
        "2. Borrowing by businesses and households. Balance sheets of many nonfinancial businesses and households remained solid. Growth of business debt continued to decline through the first half of the year, although business debt remained high when measured relative to gross domestic product (GDP) or business assets. Measures of the ability of firms to service their debt remained strong. Household debt remained at modest levels relative to GDP, with most of that debt owed by households with strong credit histories or considerable home equity (see Section 2, Borrowing by Businesses and Households).\n",
        "\n",
        "3. Leverage in the financial sector. The banking sector remains sound and resilient overall, and most banks continued to report capital levels well above regulatory requirements. That said, the increase in interest rates over the past two years has contributed to declines in the fair value of longer-maturity, fixed-rate assets that, for some banks, were sizable. Outside the banking sector, available data suggest that hedge fund leverage remained somewhat elevated, especially for the largest hedge funds. Leverage at life insurance companies remained near the middle of its historical range, while broker-dealer leverage remained historically low (see Section 3, Leverage in the Financial Sector).\n",
        "\n",
        "4. Funding risks. Most domestic banks have ample liquidity and limited reliance on short-term wholesale funding; nevertheless, some banks continued to face funding strains, likely owing to vulnerabilities associated with high levels of uninsured deposits and declines in the fair value of assets. The Bank Term Funding Program (BTFP) helped mitigate these strains. Structural vulnerabilities remained in other short-term funding markets. Prime and tax-exempt money market funds (MMFs), as well as other cash-investment vehicles and stablecoins, remained vulnerable to runs. Bond and loan funds that hold assets that can become illiquid during periods of stress remained susceptible to large redemptions. Life insurers continued to rely on a higher-than-average share of runnable liabilities (see Section 4, Funding Risks).\n",
        "'''"
      ],
      "metadata": {
        "id": "Y8NUksAxJToH"
      },
      "execution_count": null,
      "outputs": []
    },
    {
      "cell_type": "code",
      "source": [
        "# Step 1: split text into chunks\n",
        "\n",
        "chunks = text.split('\\n\\n')\n",
        "print(f'1) Text split into {len(chunks)} chunks')\n",
        "\n",
        "# Step 2: compute embeddings for each chunk\n",
        "embeddings = get_embeddings(chunks)\n",
        "print(f'2) Computed {len(embeddings)} embeddings of size {len(embeddings[0])}')\n",
        "\n",
        "# Step 3: select relevant embeddings\n",
        "query = 'How has household debt evolved lately?'\n",
        "#query = 'household debt'\n",
        "#query = 'stablecoins'\n",
        "query_embedding = get_embeddings(query)[0]\n",
        "\n",
        "for i, chunk in enumerate(chunks):\n",
        "    dist = 1 - cosine_similarity(query_embedding, embeddings[i])\n",
        "    print(f'   - Distance of chunk {i} to query: {dist:4.2f}')\n",
        "\n",
        "distances = [1 - cosine_similarity(query_embedding, e) for e in embeddings]\n",
        "best_i = np.argmin(distances)\n",
        "context = chunks[best_i]\n",
        "print(f'3) Best chunk is number {best_i} (\"{context[:30]}...\"\")')"
      ],
      "metadata": {
        "colab": {
          "base_uri": "https://localhost:8080/"
        },
        "id": "uLKzUdxXJU7x",
        "outputId": "af44ddbf-6dab-4667-e723-771532b7fc6d"
      },
      "execution_count": null,
      "outputs": [
        {
          "output_type": "stream",
          "name": "stdout",
          "text": [
            "1) Text split into 5 chunks\n",
            "2) Computed 5 embeddings of size 3072\n",
            "   - Distance of chunk 0 to query: 0.73\n",
            "   - Distance of chunk 1 to query: 0.62\n",
            "   - Distance of chunk 2 to query: 0.36\n",
            "   - Distance of chunk 3 to query: 0.60\n",
            "   - Distance of chunk 4 to query: 0.67\n",
            "3) Best chunk is number 2 (\"2. Borrowing by businesses and...\"\")\n"
          ]
        }
      ]
    },
    {
      "cell_type": "code",
      "source": [
        "# Step 4: query the LLM\n",
        "prompt = f'''\n",
        "You have been tasked to extract information from a report. Text excerpts for this examination have been attached at the end of this text, after the word \"CONTEXT:\".\n",
        "\n",
        "Please answer the following question: {query}\n",
        "\n",
        "CONTEXT:\n",
        "\n",
        "{context}\n",
        "'''\n",
        "\n",
        "response = OpenAI().chat.completions.create(\n",
        "    model = 'gpt-4-0125-preview',\n",
        "    messages=[\n",
        "        {\"role\": \"user\", \"content\": prompt}\n",
        "  ]\n",
        ")\n",
        "\n",
        "print(f'4) LLM answer:')\n",
        "print(response.choices[0].message.content)"
      ],
      "metadata": {
        "colab": {
          "base_uri": "https://localhost:8080/"
        },
        "id": "gD02A6s1Jd5m",
        "outputId": "84e5314d-d528-47c9-cbb9-90ee521390b5"
      },
      "execution_count": null,
      "outputs": [
        {
          "output_type": "stream",
          "name": "stdout",
          "text": [
            "4) LLM answer:\n",
            "Household debt has remained at modest levels relative to GDP, with most of the debt being owed by households that have strong credit histories or considerable home equity.\n"
          ]
        }
      ]
    },
    {
      "cell_type": "code",
      "source": [
        "# Step 4: query the LLM to retrieve Stata-ready output\n",
        "prompt = f'''\n",
        "You have been tasked to extract information from a report. Text excerpts for this examination have been attached at the end of this text, after the word \"CONTEXT:\".\n",
        "\n",
        "Please answer the following question: {query}\n",
        "\n",
        "Please provide your response using two JSON fields, the first one named 'success' with values True or\n",
        "False, the second named 'answer', with values 1 to 5, with 1 meaning \"great\" and 5 meaning \"terrible\".\n",
        "\n",
        "CONTEXT:\n",
        "\n",
        "{context}\n",
        "'''\n",
        "\n",
        "response = OpenAI().chat.completions.create(\n",
        "    model = 'gpt-4-0125-preview',\n",
        "    response_format = { \"type\": \"json_object\" },\n",
        "    messages=[\n",
        "        {\"role\": \"system\", \"content\": \"You are a helpful assistant designed to output JSON.\"},\n",
        "        {\"role\": \"user\", \"content\": prompt}\n",
        "  ]\n",
        ")\n",
        "\n",
        "print(f'4) LLM answer:')\n",
        "print(response.choices[0].message.content)"
      ],
      "metadata": {
        "colab": {
          "base_uri": "https://localhost:8080/"
        },
        "id": "ovIsaskAJsYw",
        "outputId": "adad20c1-a526-4de3-9e8f-71ad0e88e00d"
      },
      "execution_count": null,
      "outputs": [
        {
          "output_type": "stream",
          "name": "stdout",
          "text": [
            "4) LLM answer:\n",
            "{\n",
            "  \"success\": true,\n",
            "  \"answer\": 2\n",
            "}\n"
          ]
        }
      ]
    }
  ]
}